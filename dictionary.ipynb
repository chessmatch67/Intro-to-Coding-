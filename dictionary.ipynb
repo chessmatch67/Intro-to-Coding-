{
 "cells": [
  {
   "cell_type": "markdown",
   "id": "bb55d481",
   "metadata": {},
   "source": [
    "Write a Python function that takes 2 lists as parameters and returns the two lists merged into a dictionary, where the elements of the first list are the keys and the elements of the 2nd list are the values.\n",
    "\n",
    "key_list = ['integer', 'list', 'string', 'tuple']\n",
    "val_list = [30, ['this', 'is', 'a', 'list'], 'this is a string', ('this', 'is', 'a', 'tuple')]\n",
    "\n",
    "Expected Output: \t{'integer': 30, \n",
    "'list': ['this', 'is', 'a', 'list'], \n",
    "'string': 'this is a string', \n",
    "'tuple': ('this', 'is', 'a', 'tuple')}\n"
   ]
  },
  {
   "cell_type": "code",
   "execution_count": null,
   "id": "be26aaf0",
   "metadata": {},
   "outputs": [
    {
     "name": "stdout",
     "output_type": "stream",
     "text": [
      "{'integer': 30, 'list': ['this', 'is', 'a', 'list'], 'string': 'this is a string', 'tuple': ('this', 'is', 'a', 'tuple')}\n"
     ]
    }
   ],
   "source": [
    "def dictionary_merged(first_list, second_list):\n",
    "      final_dict = {}\n",
    "      for taken in range(0, len(second_list)):\n",
    "            semi  = first_list[taken]\n",
    "            final_dict[semi] = second_list[taken]\n",
    "      print(final_dict)\n",
    "\n",
    "key_list = ['integer', 'list', 'string', 'tuple']\n",
    "val_list = [30, ['this', 'is', 'a', 'list'], 'this is a string', ('this', 'is', 'a', 'tuple')]\n",
    "dictionary_merged(key_list, val_list)\n"
   ]
  }
 ],
 "metadata": {
  "kernelspec": {
   "display_name": "Python 3",
   "language": "python",
   "name": "python3"
  },
  "language_info": {
   "codemirror_mode": {
    "name": "ipython",
    "version": 3
   },
   "file_extension": ".py",
   "mimetype": "text/x-python",
   "name": "python",
   "nbconvert_exporter": "python",
   "pygments_lexer": "ipython3",
   "version": "3.12.1"
  }
 },
 "nbformat": 4,
 "nbformat_minor": 5
}
